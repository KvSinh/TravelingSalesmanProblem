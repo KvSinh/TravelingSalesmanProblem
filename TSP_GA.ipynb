{
  "nbformat": 4,
  "nbformat_minor": 0,
  "metadata": {
    "colab": {
      "name": "TSP_GA.ipynb",
      "provenance": []
    },
    "kernelspec": {
      "name": "python3",
      "display_name": "Python 3"
    },
    "language_info": {
      "name": "python"
    }
  },
  "cells": [
    {
      "cell_type": "code",
      "metadata": {
        "colab": {
          "base_uri": "https://localhost:8080/"
        },
        "id": "Owzc5Z-_5ykN",
        "outputId": "25c86af7-547e-43e0-9e94-3aae6715a0fb"
      },
      "source": [
        "pip install ray"
      ],
      "execution_count": null,
      "outputs": [
        {
          "output_type": "stream",
          "name": "stdout",
          "text": [
            "Requirement already satisfied: ray in /usr/local/lib/python3.7/dist-packages (1.8.0)\n",
            "Requirement already satisfied: filelock in /usr/local/lib/python3.7/dist-packages (from ray) (3.3.2)\n",
            "Requirement already satisfied: attrs in /usr/local/lib/python3.7/dist-packages (from ray) (21.2.0)\n",
            "Requirement already satisfied: redis>=3.5.0 in /usr/local/lib/python3.7/dist-packages (from ray) (4.0.1)\n",
            "Requirement already satisfied: protobuf>=3.15.3 in /usr/local/lib/python3.7/dist-packages (from ray) (3.17.3)\n",
            "Requirement already satisfied: pyyaml in /usr/local/lib/python3.7/dist-packages (from ray) (3.13)\n",
            "Requirement already satisfied: numpy>=1.16 in /usr/local/lib/python3.7/dist-packages (from ray) (1.19.5)\n",
            "Requirement already satisfied: msgpack<2.0.0,>=1.0.0 in /usr/local/lib/python3.7/dist-packages (from ray) (1.0.2)\n",
            "Requirement already satisfied: grpcio>=1.28.1 in /usr/local/lib/python3.7/dist-packages (from ray) (1.41.1)\n",
            "Requirement already satisfied: jsonschema in /usr/local/lib/python3.7/dist-packages (from ray) (2.6.0)\n",
            "Requirement already satisfied: click>=7.0 in /usr/local/lib/python3.7/dist-packages (from ray) (7.1.2)\n",
            "Requirement already satisfied: six>=1.5.2 in /usr/local/lib/python3.7/dist-packages (from grpcio>=1.28.1->ray) (1.15.0)\n",
            "Requirement already satisfied: deprecated in /usr/local/lib/python3.7/dist-packages (from redis>=3.5.0->ray) (1.2.13)\n",
            "Requirement already satisfied: wrapt<2,>=1.10 in /usr/local/lib/python3.7/dist-packages (from deprecated->redis>=3.5.0->ray) (1.13.3)\n"
          ]
        }
      ]
    },
    {
      "cell_type": "code",
      "metadata": {
        "id": "bRIfzpkMytfA"
      },
      "source": [
        "import pandas as pd\n",
        "import numpy as np\n",
        "import matplotlib.pyplot as plt"
      ],
      "execution_count": null,
      "outputs": []
    },
    {
      "cell_type": "code",
      "metadata": {
        "id": "n47G_J-Ky1eZ"
      },
      "source": [
        "df1=pd.read_html('https://github.com/SCK22/GeneticAlgorithmTSP/blob/master/data/cities_and_distances.csv')"
      ],
      "execution_count": null,
      "outputs": []
    },
    {
      "cell_type": "code",
      "metadata": {
        "id": "yk59RUynzGdt"
      },
      "source": [
        "df1= df1[0]"
      ],
      "execution_count": null,
      "outputs": []
    },
    {
      "cell_type": "code",
      "metadata": {
        "id": "wQ0sLAdpzHfw"
      },
      "source": [
        "df2= pd.read_html('https://github.com/SCK22/GeneticAlgorithmTSP/blob/master/data/city_lat_lon.csv')"
      ],
      "execution_count": null,
      "outputs": []
    },
    {
      "cell_type": "code",
      "metadata": {
        "id": "fyTsFK6WzWp2"
      },
      "source": [
        "df2= df2[0]"
      ],
      "execution_count": null,
      "outputs": []
    },
    {
      "cell_type": "code",
      "metadata": {
        "id": "inSExBiYzZXr"
      },
      "source": [
        "df1= df1.dropna(axis=1, how='any', thresh=None, subset=None, inplace=False)    #City Distance"
      ],
      "execution_count": null,
      "outputs": []
    },
    {
      "cell_type": "code",
      "metadata": {
        "id": "y8z0QIXjzacJ"
      },
      "source": [
        "df2= df2.dropna(axis=1, how='any', thresh=None, subset=None, inplace=False)    #City Longitude and Latitude"
      ],
      "execution_count": null,
      "outputs": []
    },
    {
      "cell_type": "code",
      "metadata": {
        "id": "Ic8Mh0gZz9Yg"
      },
      "source": [
        ""
      ],
      "execution_count": null,
      "outputs": []
    },
    {
      "cell_type": "code",
      "metadata": {
        "id": "n3Z029V10KB3"
      },
      "source": [
        "# GeneticAlgorithmTSP#\n",
        "import warnings\n",
        "import random\n",
        "import ray\n",
        "\n"
      ],
      "execution_count": null,
      "outputs": []
    },
    {
      "cell_type": "code",
      "metadata": {
        "id": "AAipPPHX010R"
      },
      "source": [
        "np.random.seed(seed=42)\n",
        "from numpy import math as m\n",
        "from tqdm import tqdm                              #tqdm is a library in Python which is used for creating Progress Meters or Progress Bars"
      ],
      "execution_count": null,
      "outputs": []
    },
    {
      "cell_type": "code",
      "metadata": {
        "id": "YmXCnWHK2O76"
      },
      "source": [
        "class GeneticAlgorithmTSP:\n",
        "\n",
        "    \"\"\"This class implements all the methods required to apply genetic algorithm\n",
        "     to Travelling Salesman Problem.\"\"\"\n",
        "\n",
        "    def __init__(\n",
        "        self,\n",
        "        number_of_cities=11,\n",
        "        initial_pop_size,\n",
        "        nelite,\n",
        "        percentage_to_mutate,\n",
        "        percentage_to_crossover,\n",
        "        dist_mat,\n",
        "    ):\n",
        "        \"\"\"Initialize the required values and import libraries\"\"\"\n",
        "\n",
        "        self.number_of_cities = number_of_cities\n",
        "        self.initial_pop_size = initial_pop_size\n",
        "        self.nelite = nelite\n",
        "        self.percentage_to_mutate = percentage_to_mutate\n",
        "        self.percentage_to_crossover = percentage_to_crossover\n",
        "        self.dist_mat = dist_mat\n",
        "        self.cross_over_df = None\n",
        "        self.elite_few_df = None"
      ],
      "execution_count": null,
      "outputs": []
    },
    {
      "cell_type": "code",
      "metadata": {
        "id": "hpnoa2Ft3x8e"
      },
      "source": [
        "# generate an initial random route\n",
        "def get_route(self)-> list:\n",
        "        np.random.seed(seed=42)\n",
        "        my_randoms = random.sample(\n",
        "            range(1, self.number_of_cities), self.number_of_cities - 1\n",
        "        )  # excluding 0 from the range as 0 is the starting point for us i.e Bangalore\n",
        "        return my_randoms"
      ],
      "execution_count": null,
      "outputs": []
    },
    {
      "cell_type": "code",
      "metadata": {
        "colab": {
          "base_uri": "https://localhost:8080/",
          "height": 35
        },
        "id": "zF-zWBv33gVD",
        "outputId": "45a81d3f-d804-4537-f606-d80fdfb9e3b0"
      },
      "source": [
        "def fitness_function(self, route) -> int:\n",
        "        \"\"\"This functions takes the route generated and returns the cost incurred.\n",
        "        Example :\n",
        "                input : [8, 3, 5, 7, 1, 9, 10, 4, 6, 2]\n",
        "                output : 17514\n",
        "        Implementation:\n",
        "                fitness_function([8, 3, 5, 7, 1, 9, 10, 4, 6, 2])\n",
        "                output: 17514\n",
        "        \"\"\"\n",
        "        traverse_data = self.dist_mat.copy()  # creating a copy of the original df\n",
        "        source_point = 0  # defining a starting point\n",
        "        stops_covered = 0  # setting the number of stops covered to 0\n",
        "        route_cost = 0  # setting the initial cost to 0\n",
        "        route1 = route  # + [pvRouteMap[0]]\n",
        "        # initiate a while loop and calculate the cost for the whole path traversed and return the cost\n",
        "        while stops_covered < len(route1):\n",
        "            route_cost = route_cost + traverse_data.iloc[source_point, route1[stops_covered]]\n",
        "            \"\"\"route cost is the sum of the cost incurred from travelling from one point to the next according\n",
        "\t\t\tto the route that was generated previously.\"\"\"\n",
        "            source_point = route1[\n",
        "                stops_covered\n",
        "            ]  # update the source point to the next point in the route\n",
        "            stops_covered = stops_covered + 1  # Adding 1 to the stops covered\n",
        "        route_cost = route_cost + traverse_data.iloc[route1[-1], 0]\n",
        "        return route_cost\n",
        "\n",
        "\"\"\"Generate an initial population of random routes (generally we generate a large number of initial routes)\"\"\""
      ],
      "execution_count": null,
      "outputs": [
        {
          "output_type": "execute_result",
          "data": {
            "application/vnd.google.colaboratory.intrinsic+json": {
              "type": "string"
            },
            "text/plain": [
              "'Generate an initial population of random routes (generally we generate a large number of initial routes)'"
            ]
          },
          "metadata": {},
          "execution_count": 102
        }
      ]
    },
    {
      "cell_type": "code",
      "metadata": {
        "colab": {
          "base_uri": "https://localhost:8080/"
        },
        "id": "xEx-XRep4jDZ",
        "outputId": "c2c67323-e2b1-4f3c-d116-faddb0f24603"
      },
      "source": [
        "def initial_pop_cost(self) -> pd.DataFrame:\n",
        "        \"\"\"This function generates routes and calculates the cost of the routes.\n",
        "        Returns: dataframe of routes and the cost.\"\"\"\n",
        "        np.random.seed(seed=42)\n",
        "        ninitpop = self.initial_pop_size\n",
        "        intial_cost = 0\n",
        "        route_cost = []\n",
        "        # generate ninitpop routes\n",
        "        routes = [\n",
        "            self.get_route() for i in range(0, ninitpop)\n",
        "        ]  \n",
        "        # calculate the fitness criteria\n",
        "        routes_cost = ray.get([self.fitness_function.remote(self,i) for i in routes])\n",
        "        routes_df = pd.DataFrame([routes, routes_cost]).transpose()\n",
        "        routes_df.columns = [\"Route\", \"Cost\"]\n",
        "        routes_df = routes_df.sort_values(\"Cost\")\n",
        "        self.sorted_population = routes_df\n",
        "        return routes_df\n",
        "\n",
        "    # Here we follow the elitist approach\n",
        "\"\"\"Sort the routes based on the distance travelled (cost)\n",
        "     and take the elite ones\"\"\"\n",
        "\n",
        "def the_elite_few(self) -> pd.DataFrame:\n",
        "    \"\"\"This functions picks 'nelite' number of best performing solutions.\n",
        "    Takes input of population sorted based on the cost Returns: top 'nelite' solutions.\"\"\"\n",
        "    elite_few = self.sorted_population.head(self.nelite)\n",
        "    self.elite_few_df = elite_few\n",
        "    return elite_few\n",
        "def get_mutated_path(self, init_path: list, mutate_factor: int) -> list:\n",
        "        \"\"\"get_mutated_path takes an input path and a mutate factor,\n",
        "         returns mutated path\n",
        "        Args:\n",
        "            init_path : initial path\n",
        "            mutate_factor: index from where the solution parts should be swapped\n",
        "        Retuns:\n",
        "            returns mutated path\n",
        "        \"\"\"\n",
        "        try:\n",
        "            temp1 = init_path[0:mutate_factor]\n",
        "            temp2 = init_path[mutate_factor : len(init_path)]\n",
        "            newPath = temp2 + temp1\n",
        "        except:\n",
        "            temp1 = init_path[0 : max(mutate_factor)]\n",
        "            temp2 = init_path[max(mutate_factor) :]\n",
        "            newPath = temp2 + temp1\n",
        "        return newPath\n",
        "\n",
        "def mutation_function(self, elite_few_df):\n",
        "        \"\"\"This function mutates n input routes where n is calculated based on \n",
        "        the percentage_to_mutate and returns the\n",
        "        corresponding mutated solution and the cost.\"\"\"\n",
        "        # random number for mutate factor\n",
        "        p = int(round(elite_few_df.shape[0] * self.percentage_to_mutate, 0))\n",
        "        picked_route_maps = elite_few_df.Route.head(p).tolist()\n",
        "        # pick a new index for every solution\n",
        "        mutated_route_list = []\n",
        "        for i in tqdm(picked_route_maps, desc= \"Mutation\"):\n",
        "           mutated_route_list.append(self.get_mutated_path(i, random.choice(range(0, len(elite_few_df.Route[0]), 1))))\n",
        "            \n",
        "        mutated_routes_cost = ray.get([self.fitness_function.remote(self,i) for i in mutated_route_list])\n",
        "        mutated_routes_df = pd.DataFrame(\n",
        "            [mutated_route_list, mutated_routes_cost]\n",
        "        ).transpose()\n",
        "        mutated_routes_df.columns = [\"Route\", \"Cost\"]\n",
        "        self.mutated_routes_df = mutated_routes_df\n",
        "        return mutated_routes_df\n",
        "\n",
        "def cross_over_function(\n",
        "        self, parent1, parent2, crossover_factor_start_pos=2, crossover_factor_end_pos=6\n",
        "    ):\n",
        "        \"\"\"This function implements the partially mapped crossover by goldeberg\n",
        "         (https://www.hindawi.com/journals/cin/2017/7430125/)\n",
        "        inputs: 2 parent solutions, crossover start position, crossover end position.\n",
        "        crossover start position and  crossover end position are randomly \n",
        "        generated in the solution.\n",
        "        output: 2 child solutions, i.e the crossedover solutions.\n",
        "        Example :\n",
        "                Inputs:\n",
        "                        p1 = [5,7,2,4,8,9,3,6]\n",
        "                        p2 = [8,6,9,3,2,5,7,4]\n",
        "                        crossover_start_pos 2 (randomly selected)\n",
        "                        crossover_end_pos 6 (randomly selected)\n",
        "                Internals:\n",
        "                        The mapping created is [(2, 9), (4, 3), (8, 2), (9, 5)]\n",
        "                        Child1 Intermediate [9, 7, 9, 3, 2, 5, 4, 6]\n",
        "                        Child1 Intermediate [2, 7, 9, 3, 2, 5, 4, 6]\n",
        "                        Child1 Intermediate [8, 7, 9, 3, 2, 5, 4, 6]\n",
        "                        Child1 final [8, 7, 9, 3, 2, 5, 4, 6]\n",
        "                        Child2 original [8, 6, 2, 4, 8, 9, 7, 4]\n",
        "                        Child2 Intermediate [2, 6, 2, 4, 8, 9, 7, 3]\n",
        "                        Child2 Intermediate [9, 6, 2, 4, 8, 9, 7, 3]\n",
        "                        Child2 Intermediate [5, 6, 2, 4, 8, 9, 7, 3]\n",
        "                        Child2 final [5, 6, 2, 4, 8, 9, 7, 3]\n",
        "                Output:\n",
        "                        Child: [8, 7, 9, 3, 2, 5, 4, 6]\n",
        "                        Child: [5, 6, 2, 4, 8, 9, 7, 3].\n",
        "        \"\"\"\n",
        "        indexes_for_crossover = random.sample(set(range(len(parent1))), 2)\n",
        "        crossover_factor_start_pos, crossover_factor_end_pos = (\n",
        "            min(indexes_for_crossover),\n",
        "            max(indexes_for_crossover),\n",
        "        )\n",
        "        ## generate child 1\n",
        "        child1 = (\n",
        "            parent1[0:crossover_factor_start_pos]\n",
        "            + parent2[crossover_factor_start_pos:crossover_factor_end_pos]\n",
        "            + parent1[crossover_factor_end_pos:]\n",
        "        )\n",
        "\n",
        "        ## generate child 2\n",
        "        child2 = (\n",
        "            parent2[0:crossover_factor_start_pos]\n",
        "            + parent1[crossover_factor_start_pos:crossover_factor_end_pos]\n",
        "            + parent2[crossover_factor_end_pos:]\n",
        "        )\n",
        "\n",
        "        ## Create mappings\n",
        "        mpping = list(\n",
        "            zip(\n",
        "                parent1[crossover_factor_start_pos:crossover_factor_end_pos],\n",
        "                parent2[crossover_factor_start_pos:crossover_factor_end_pos],\n",
        "            )\n",
        "        )\n",
        "\n",
        "        # run until all the nodes in the route are unique\n",
        "        while len(np.unique(child1)) != len(child1):\n",
        "            child1_part = (\n",
        "                child1[:crossover_factor_start_pos] + child1[crossover_factor_end_pos:]\n",
        "            )\n",
        "            for i in child1_part:\n",
        "                for j in mpping:\n",
        "                    if i == j[1]:\n",
        "                        child1_part[child1_part.index(i)] = j[0]\n",
        "\n",
        "            child1 = (\n",
        "                child1_part[:crossover_factor_start_pos]\n",
        "                + child1[crossover_factor_start_pos:crossover_factor_end_pos]\n",
        "                + child1_part[crossover_factor_start_pos:]\n",
        "            )\n",
        "\n",
        "        # run until all the nodes in the route are unique\n",
        "        while len(np.unique(child2)) != len(child2):\n",
        "            child2_part = (\n",
        "                child2[:crossover_factor_start_pos] + child2[crossover_factor_end_pos:]\n",
        "            )\n",
        "            for i in child2_part:\n",
        "                for j in mpping:\n",
        "                    if i == j[0]:\n",
        "                        child2_part[child2_part.index(i)] = j[1]\n",
        "            child2 = (\n",
        "                child2_part[:crossover_factor_start_pos]\n",
        "                + child2[crossover_factor_start_pos:crossover_factor_end_pos]\n",
        "                + child2_part[crossover_factor_start_pos:]\n",
        "            )\n",
        "\n",
        "        return (child1, child2)\n",
        "\n",
        "def routes_after_cross_over(self):\n",
        "        \"\"\"This functions takes in a population and performs crossover on the\n",
        "         top_per records.\n",
        "        output is a set of children after the crossover operation.\"\"\"\n",
        "        # taking the top_per% of this new df and using crossover\n",
        "        sorted_pop = self.sorted_population\n",
        "        tp = int(np.ceil(self.percentage_to_crossover / 100))\n",
        "        if tp < 3:\n",
        "            tp = 3\n",
        "        top_few = sorted_pop.head(tp)\n",
        "        routes_crossover = []\n",
        "        ind = top_few.index.tolist()\n",
        "        for i in tqdm(range(int(top_few.shape[0])), desc= \"Crossover\"):  # for every row randomly pick a pair to crossover\n",
        "            try:\n",
        "                indexes = random.sample(ind, 2)\n",
        "                temp1, temp2 = (\n",
        "                    top_few.iloc[top_few.index == indexes[0]].Route.tolist()[0],\n",
        "                    top_few.iloc[top_few.index == indexes[1]].Route.tolist()[0],\n",
        "                )\n",
        "                sol1, sol2 = self.cross_over_function(temp1, temp2)\n",
        "                routes_crossover.extend([sol1, sol2])\n",
        "            except:\n",
        "                pass\n",
        "            # after doing crossover, remove the indeces from the data, continue with the remaining data\n",
        "            try:\n",
        "                ind.remove(indexes[0])\n",
        "                ind.remove(indexes[1])\n",
        "            except:\n",
        "                pass\n",
        "        cost_crossover = ray.get([self.fitness_function.remote(self,i) for i in routes_crossover])\n",
        "        cross_over_df = pd.DataFrame(\n",
        "            [routes_crossover, cost_crossover],\n",
        "        ).transpose()\n",
        "        cross_over_df.columns = [\"Route\", \"Cost\"]\n",
        "        self.cross_over_df = cross_over_df\n",
        "        return cross_over_df\n",
        "\n",
        "class OverallGaRun(GeneticAlgorithmTSP):\n",
        "    \"\"\"Inherits GeneticAlgorithmTSP class\"\"\"\n",
        "    # Start Ray.\n",
        "    ray.init(ignore_reinit_error=True)\n",
        "    def __init__(\n",
        "        self,\n",
        "        noverall,\n",
        "        number_of_cities,\n",
        "        initial_pop_size,\n",
        "        nelite,\n",
        "        percentage_to_mutate,\n",
        "        percentage_to_crossover,\n",
        "        dist_mat,\n",
        "    ):\n",
        "        super().__init__(\n",
        "            number_of_cities,\n",
        "            initial_pop_size,\n",
        "            nelite,\n",
        "            percentage_to_mutate,\n",
        "            percentage_to_crossover,\n",
        "            dist_mat,\n",
        "        )\n",
        "        self.noverall = noverall # overall runs of the GA\n",
        "        cities_mapping = {}\n",
        "        for i in enumerate(tqdm(self.dist_mat.columns,desc = \"Cities Mapping\")):\n",
        "            cities_mapping[i[0]] = i[1]\n",
        "        self.cities_mapping = cities_mapping\n",
        "\n",
        "    def run_overall_ga(self):\n",
        "        possible_solutions = m.factorial(self.number_of_cities - 1)\n",
        "        ninitpop = self.initial_pop_size\n",
        "        ## create an empty dataframe to store the solutions\n",
        "        all_solutions_generated = pd.DataFrame(columns=[\"Route\", \"Cost\"])\n",
        "        \"\"\"start a for loop and run the whole process for mentioned number\n",
        "         of times\"\"\"\n",
        "        print(\"Starting {} iterations of the GA\".format(self.noverall))\n",
        "        # generating initial population\n",
        "        \"\"\"We only generate a population initially, after  the first run ,\n",
        "\t\twe take the best solutions from the previous run and continue with\n",
        "         the process\"\"\"\n",
        "        if all_solutions_generated.shape[0] == 0:\n",
        "            initial_pop_cost = self.initial_pop_cost()\n",
        "            sorted_init_pop = initial_pop_cost.sort_values(\"Cost\")\n",
        "        else:\n",
        "            sorted_init_pop = all_solutions_generated.head(self.initial_pop_size)\n",
        "\n",
        "        # selecting the elite few\n",
        "        elite_few_df = self.the_elite_few()\n",
        "        best_sol = []\n",
        "        \"\"\"Generating a random number based on which we either\n",
        "         mutate or do a crossover\"\"\"\n",
        "        mating_factor = np.random.uniform(\n",
        "            0, 1, 1\n",
        "        )  # Random pick to decide on Mutation / crossover\n",
        "\n",
        "        for i in range(self.noverall):\n",
        "            if mating_factor < 0.2:\n",
        "                mutated_population_wth_cost = self.mutation_function(\n",
        "                    all_solutions_generated\n",
        "                )\n",
        "                all_solutions_generated.append(mutated_population_wth_cost)\n",
        "            else:\n",
        "                crossover_population = self.routes_after_cross_over()\n",
        "                all_solutions_generated = all_solutions_generated.append(\n",
        "                    crossover_population\n",
        "                )\n",
        "\n",
        "            all_solutions_generated.Route = all_solutions_generated.Route.map(\n",
        "                lambda x: tuple(x)\n",
        "            )\n",
        "            unique_sols_generated = (\n",
        "                all_solutions_generated.drop_duplicates().sort_values(\"Cost\")\n",
        "            )\n",
        "            all_solutions_generated = all_solutions_generated.sort_values(\"Cost\").head(\n",
        "                ninitpop\n",
        "            )  # only take the top ninitpop number of solutions\n",
        "            all_solutions_generated.Route = all_solutions_generated.Route.map(\n",
        "                lambda x: list(x)\n",
        "            )\n",
        "\n",
        "        print(\n",
        "            \"-----------------------------------------------------------------\"\n",
        "        )\n",
        "        print(\n",
        "            \"\"\"Best solution for initial population size of {} and number \n",
        "            of runs {} is \\n {}\"\"\".format(\n",
        "                self.initial_pop_size,\n",
        "                self.noverall,\n",
        "                all_solutions_generated.sort_values(\"Cost\").head(1),\n",
        "            )\n",
        "        )\n",
        "        print(\n",
        "            \"Generated {}({}%) of the {} solutions\".format(\n",
        "                all_solutions_generated.shape[0],\n",
        "        np.round((len(all_solutions_generated) / possible_solutions) * 100,3),\n",
        "                possible_solutions,\n",
        "            )\n",
        "        )\n",
        "        final_sol = all_solutions_generated.sort_values(\"Cost\").head(1)\n",
        "\n",
        "        #### Final Solution ( Cities)\n",
        "        final_route = []\n",
        "        starting_point = self.dist_mat.index[0]\n",
        "        for i in final_sol.Route.values[0]:\n",
        "            final_route.append(self.cities_mapping[i])\n",
        "        final_route = [starting_point] + final_route + [starting_point]\n",
        "        total_cost = ray.get(self.fitness_function.remote(self,list(final_sol.Route.values[0])))\n",
        "\n",
        "        print(\n",
        "            \"\"\"Total distance travelled to cover the final route of \\n {} is {} KM.\n",
        "             (Generated from initial population size of {})\"\"\".format(\n",
        "                \" => \".join(final_route), total_cost, self.initial_pop_size\n",
        "            )\n",
        "        )\n",
        "        print(\n",
        "            \"-----------------------------------------------------------------\"\n",
        "        )\n",
        "        best_sol.append(final_sol)\n",
        "\n",
        "        return (final_sol,total_cost)\n",
        "\n",
        "\n",
        "if __name__ != \"__main__\":\n",
        "    try:\n",
        "        from geopy.geocoders import Nominatim\n",
        "    except ModuleNotFoundError:\n",
        "        warnings.warn(\n",
        "            \"\"\"Could not load geopy,\n",
        "\t\t\tthe package is either not available for the os you are using or\n",
        "            is not available in the scope of the class.This will not affect\n",
        "            the functionality of the class,\n",
        "\t\t\tyou cannot generate plots\n",
        "            \"\"\",\n",
        "            stacklevel=1,\n",
        "        )\n",
        "    try:\n",
        "        import folium\n",
        "    except ModuleNotFoundError:\n",
        "        warnings.warn(\n",
        "            \"\"\"Could not load folium,\n",
        "\t\t\tthe package is either not available for the os you are using or\n",
        "            is not availablein the scope of the class.This will not affect\n",
        "            the functionality of the class,\n",
        "            you cannot generate plots\"\"\",\n",
        "            stacklevel=1,\n",
        "        )\n",
        "    try:\n",
        "        from branca.element import Figure\n",
        "    except ModuleNotFoundError:\n",
        "        warnings.warn(\n",
        "            \"\"\"Could not load branca,\n",
        "            the package is either not available for the os you are using or\n",
        "            is not available in the scope of the class.This will not affect\n",
        "            the functionality of the class,\n",
        "            you cannot generate plots\"\"\",\n",
        "            stacklevel=1,\n",
        "        )\n",
        "    with warnings.catch_warnings():\n",
        "        warnings.simplefilter(\"ignore\")\n",
        "    from numpy import math as m"
      ],
      "execution_count": null,
      "outputs": [
        {
          "output_type": "stream",
          "name": "stderr",
          "text": [
            "2021-11-17 12:45:44,383\tINFO worker.py:833 -- Calling ray.init() again after it has already been called.\n"
          ]
        }
      ]
    },
    {
      "cell_type": "code",
      "metadata": {
        "id": "sDyy6JcK4zzc"
      },
      "source": [
        ""
      ],
      "execution_count": null,
      "outputs": []
    }
  ]
}